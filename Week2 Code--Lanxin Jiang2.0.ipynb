{
 "cells": [
  {
   "cell_type": "code",
   "execution_count": 16,
   "metadata": {
    "ExecuteTime": {
     "end_time": "2020-09-14T08:25:32.907940Z",
     "start_time": "2020-09-14T08:25:32.898391Z"
    },
    "code_folding": []
   },
   "outputs": [],
   "source": [
    "import os\n",
    "import random\n",
    "import re\n",
    "from bs4 import BeautifulSoup\n",
    "import numpy as np\n",
    "import pandas as pd\n",
    "import string\n",
    "import collections\n",
    "from nltk.stem.porter import *"
   ]
  },
  {
   "cell_type": "code",
   "execution_count": 17,
   "metadata": {
    "ExecuteTime": {
     "end_time": "2020-09-14T08:25:39.949094Z",
     "start_time": "2020-09-14T08:25:39.923909Z"
    },
    "code_folding": []
   },
   "outputs": [
    {
     "name": "stdout",
     "output_type": "stream",
     "text": [
      "['10-K--1086222--2020-02-28--0001086222-20-000045.html', '10-K--880984--2020-03-25--0001493152-20-004708.html', '10-K--1337553--2020-02-24--0001628280-20-002027.html', '10-K--899629--2020-02-21--0001564590-20-005641.html', '10-K--1785173--2020-03-18--0001564590-20-011636.html', '10-K--1004434--2020-02-28--0001004434-20-000011.html', '10-K--910638--2020-02-26--0000910638-20-000010.html', '10-K--1622996--2020-01-07--0001640334-20-000007.html', '10-K--1769624--2020-03-31--0001213900-20-008207.html', '10-K--1326321--2020-03-30--0000931755-20-000013.html']\n"
     ]
    }
   ],
   "source": [
    "# Randomly select 10 10-K from those downloaded last week\n",
    "f_list = []\n",
    "path = 'C:/Users/jlxle/Desktop/files'   \n",
    "for i in os.listdir(path):  \n",
    "    f_list.append(i)\n",
    "fr_list = random.sample(f_list,10)    \n",
    "print(fr_list)"
   ]
  },
  {
   "cell_type": "code",
   "execution_count": 18,
   "metadata": {
    "ExecuteTime": {
     "end_time": "2020-09-14T08:25:47.184698Z",
     "start_time": "2020-09-14T08:25:46.929137Z"
    }
   },
   "outputs": [],
   "source": [
    "# Create two dataframe, which will be written into 2 .csv files\n",
    "df_w = pd.read_csv('C:/Users/jlxle/Desktop/week2/totalwordcountd.csv')\n",
    "df_n = pd.read_excel('C:/Users/jlxle/Desktop/week2/LoughranMcDonald_SentimentWordLists_2018.xlsx',sheet_name='Negative',header=None,names=['NegativeWords','CountAllDocument'])"
   ]
  },
  {
   "cell_type": "code",
   "execution_count": 19,
   "metadata": {
    "ExecuteTime": {
     "end_time": "2020-09-14T08:25:54.201673Z",
     "start_time": "2020-09-14T08:25:54.181842Z"
    }
   },
   "outputs": [
    {
     "name": "stdout",
     "output_type": "stream",
     "text": [
      "  FileName  WordCount  TotalNegativeWords  TotalStemmedNegativeWords  \\\n",
      "0   1.html        NaN                 NaN                        NaN   \n",
      "1   2.html        NaN                 NaN                        NaN   \n",
      "2   3.html        NaN                 NaN                        NaN   \n",
      "\n",
      "   NegativeWordRatio  StemmedNegativeWordRatio  \n",
      "0                NaN                       NaN  \n",
      "1                NaN                       NaN  \n",
      "2                NaN                       NaN  \n",
      "  NegativeWords  CountAllDocument\n",
      "0       ABANDON               NaN\n",
      "1     ABANDONED               NaN\n",
      "2    ABANDONING               NaN\n"
     ]
    }
   ],
   "source": [
    "print(df_w[:3])\n",
    "print(df_n[:3])"
   ]
  },
  {
   "cell_type": "code",
   "execution_count": 13,
   "metadata": {
    "ExecuteTime": {
     "end_time": "2020-09-14T07:41:50.076490Z",
     "start_time": "2020-09-14T07:41:50.064745Z"
    }
   },
   "outputs": [
    {
     "name": "stdout",
     "output_type": "stream",
     "text": [
      "!\"#$%&'()*+,-./:;<=>?@[\\]^_`{|}~\n"
     ]
    }
   ],
   "source": [
    "print(string.punctuation)"
   ]
  },
  {
   "cell_type": "code",
   "execution_count": 35,
   "metadata": {
    "ExecuteTime": {
     "end_time": "2020-09-14T10:01:00.239383Z",
     "start_time": "2020-09-14T09:59:45.461363Z"
    },
    "scrolled": true
   },
   "outputs": [
    {
     "name": "stdout",
     "output_type": "stream",
     "text": [
      "10-K--1086222--2020-02-28--0001086222-20-000045.html\n",
      "10-K--880984--2020-03-25--0001493152-20-004708.html\n",
      "10-K--1337553--2020-02-24--0001628280-20-002027.html\n",
      "10-K--899629--2020-02-21--0001564590-20-005641.html\n",
      "10-K--1785173--2020-03-18--0001564590-20-011636.html\n",
      "10-K--1004434--2020-02-28--0001004434-20-000011.html\n",
      "10-K--910638--2020-02-26--0000910638-20-000010.html\n",
      "10-K--1622996--2020-01-07--0001640334-20-000007.html\n",
      "10-K--1769624--2020-03-31--0001213900-20-008207.html\n",
      "10-K--1326321--2020-03-30--0000931755-20-000013.html\n"
     ]
    }
   ],
   "source": [
    "WordCount = []\n",
    "occur = []  \n",
    "TotalNegativeWords = []\n",
    "TotalStemmedNegativeWords = []\n",
    "\n",
    "for i in fr_list:\n",
    "    print(i)\n",
    "    \n",
    "    # Clean textual data using Beautiful Soup\n",
    "    f = open(path + '/' + i,\"r\",encoding='UTF8').read()    \n",
    "    sp = BeautifulSoup(f,'html.parser')    \n",
    "    spt = sp.get_text()              # After applying .get_text(), at the end of each file, beginning with 'EX-101',still messy\n",
    "    start_loc = spt.find('EX-101')   # delete all the messy and useless data after 'EX-101', leaving items and  \n",
    "    spt = spt[:start_loc]            # some exhibits, which are in good format\n",
    "    spt = re.sub(r'[\\!\\\"\\#\\$\\%\\&\\'\\(\\)\\*\\+\\,\\.\\/\\:\\;\\<\\=\\>\\?\\@\\\\\\]\\[\\^\\_\\`\\{\\|\\}\\~\\-\\–\\—\\d\\§]', '', spt)     \n",
    "                                        # Remove punctuation and numbers                    \n",
    "    spt_list = spt.upper().split()      # Convert words to uppercase and split word token\n",
    "    WordCount.append(len(spt_list))     # count words for each file and append the count to a list\n",
    "    \n",
    "    countNeg = 0\n",
    "    for j in spt_list: \n",
    "        if j in df_n['NegativeWords'].values:   \n",
    "            occur.append(j)\n",
    "            countNeg += 1\n",
    "    TotalNegativeWords.append(countNeg)   \n",
    "    \n",
    "    countStem = 0       \n",
    "    stemmer = PorterStemmer()          # Stemming\n",
    "    spt_list_stem = [stemmer.stem(i) for i in spt_list]\n",
    "    n_stem = [stemmer.stem(i) for i in df_n['NegativeWords'].values]\n",
    "    for j in spt_list_stem:\n",
    "        if j in n_stem:\n",
    "            countStem += 1  \n",
    "    TotalStemmedNegativeWords.append(countStem)        "
   ]
  },
  {
   "cell_type": "code",
   "execution_count": 36,
   "metadata": {
    "ExecuteTime": {
     "end_time": "2020-09-14T10:01:04.437114Z",
     "start_time": "2020-09-14T10:01:03.771572Z"
    }
   },
   "outputs": [],
   "source": [
    "cnt = collections.Counter(occur)   # dictionary，key--negative words，value--occurence in all 10 files     \n",
    "k = df_n['NegativeWords'].values\n",
    "n = 0\n",
    "for j in k:\n",
    "    df_n.loc[n,'CountAllDocument'] = cnt[j]       # How many times each negative words appear in all 10 files\n",
    "    n += 1"
   ]
  },
  {
   "cell_type": "code",
   "execution_count": 37,
   "metadata": {
    "ExecuteTime": {
     "end_time": "2020-09-14T10:01:05.930218Z",
     "start_time": "2020-09-14T10:01:05.926218Z"
    }
   },
   "outputs": [],
   "source": [
    "# Put values into dataframe\n",
    "df_w['FileName'] = fr_list        \n",
    "df_w['WordCount'] = WordCount\n",
    "df_w['TotalNegativeWords'] = TotalNegativeWords\n",
    "df_w['TotalStemmedNegativeWords'] = TotalStemmedNegativeWords"
   ]
  },
  {
   "cell_type": "code",
   "execution_count": 38,
   "metadata": {
    "ExecuteTime": {
     "end_time": "2020-09-14T10:01:08.796715Z",
     "start_time": "2020-09-14T10:01:08.785779Z"
    }
   },
   "outputs": [],
   "source": [
    "# axis =1 ,apply function to each row; axis =0(default), column\n",
    "df_w['NegativeWordRatio'] = df_w[['TotalNegativeWords','WordCount']].apply(lambda x : x['TotalNegativeWords'] / x['WordCount'] ,axis=1 ) \n",
    "df_w['StemmedNegativeWordRatio'] = df_w[['TotalStemmedNegativeWords','WordCount']].apply(lambda x : x['TotalStemmedNegativeWords'] / x['WordCount'] ,axis=1 ) "
   ]
  },
  {
   "cell_type": "code",
   "execution_count": 39,
   "metadata": {
    "ExecuteTime": {
     "end_time": "2020-09-14T10:01:26.456762Z",
     "start_time": "2020-09-14T10:01:26.443800Z"
    }
   },
   "outputs": [
    {
     "name": "stdout",
     "output_type": "stream",
     "text": [
      "                                            FileName  WordCount  \\\n",
      "0  10-K--1086222--2020-02-28--0001086222-20-00004...      60091   \n",
      "1  10-K--880984--2020-03-25--0001493152-20-004708...      36550   \n",
      "2  10-K--1337553--2020-02-24--0001628280-20-00202...      97499   \n",
      "\n",
      "   TotalNegativeWords  TotalStemmedNegativeWords  NegativeWordRatio  \\\n",
      "0                 845                       1316           0.014062   \n",
      "1                 550                        803           0.015048   \n",
      "2                1978                       2980           0.020287   \n",
      "\n",
      "   StemmedNegativeWordRatio  \n",
      "0                  0.021900  \n",
      "1                  0.021970  \n",
      "2                  0.030564  \n"
     ]
    }
   ],
   "source": [
    "print(df_w[:3])"
   ]
  },
  {
   "cell_type": "code",
   "execution_count": 40,
   "metadata": {
    "ExecuteTime": {
     "end_time": "2020-09-14T10:02:42.164213Z",
     "start_time": "2020-09-14T10:02:42.148292Z"
    }
   },
   "outputs": [],
   "source": [
    "df_n.to_csv('C:/Users/jlxle/Desktop/NegativeWordsCount.csv', sep=\",\", index=False )\n",
    "df_w.to_csv('C:/Users/jlxle/Desktop/TotalWordsCount.csv', sep=\",\" , index=False )"
   ]
  }
 ],
 "metadata": {
  "kernelspec": {
   "display_name": "Python 3",
   "language": "python",
   "name": "python3"
  },
  "language_info": {
   "codemirror_mode": {
    "name": "ipython",
    "version": 3
   },
   "file_extension": ".py",
   "mimetype": "text/x-python",
   "name": "python",
   "nbconvert_exporter": "python",
   "pygments_lexer": "ipython3",
   "version": "3.7.6"
  },
  "varInspector": {
   "cols": {
    "lenName": 16,
    "lenType": 16,
    "lenVar": 40
   },
   "kernels_config": {
    "python": {
     "delete_cmd_postfix": "",
     "delete_cmd_prefix": "del ",
     "library": "var_list.py",
     "varRefreshCmd": "print(var_dic_list())"
    },
    "r": {
     "delete_cmd_postfix": ") ",
     "delete_cmd_prefix": "rm(",
     "library": "var_list.r",
     "varRefreshCmd": "cat(var_dic_list()) "
    }
   },
   "types_to_exclude": [
    "module",
    "function",
    "builtin_function_or_method",
    "instance",
    "_Feature"
   ],
   "window_display": false
  }
 },
 "nbformat": 4,
 "nbformat_minor": 4
}
